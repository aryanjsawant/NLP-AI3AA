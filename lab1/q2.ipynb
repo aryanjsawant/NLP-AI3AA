{
 "cells": [
  {
   "cell_type": "code",
   "execution_count": 1,
   "id": "885f6465",
   "metadata": {},
   "outputs": [],
   "source": [
    "import re\n",
    "from collections import Counter"
   ]
  },
  {
   "cell_type": "code",
   "execution_count": 2,
   "id": "8a3f67c7",
   "metadata": {},
   "outputs": [],
   "source": [
    "def load_text(file_path):\n",
    "    with open(file_path, 'r', encoding='utf-8') as f:\n",
    "        return f.read()\n"
   ]
  },
  {
   "cell_type": "code",
   "execution_count": null,
   "id": "43320e02",
   "metadata": {},
   "outputs": [],
   "source": [
    "def sentence_tokenizer(text):\n",
    "    sentences = re.split(r'(?<=[।.!?])\\s+', text)\n",
    "    return [s.strip() for s in sentences if s.strip()]\n"
   ]
  },
  {
   "cell_type": "code",
   "execution_count": 4,
   "id": "85aeea25",
   "metadata": {},
   "outputs": [],
   "source": [
    "def word_tokenizer(sentence):\n",
    "    pattern = r'''\n",
    "        [a-zA-Z0-9_.+-]+@[a-zA-Z0-9-]+\\.[a-zA-Z0-9-.]+ |     # Email\n",
    "        https?://\\S+ |                                       # URL\n",
    "        \\d{1,2}/\\d{1,2}/\\d{2,4} |                            # Dates\n",
    "        \\d+\\.\\d+ |                                           # Decimal numbers\n",
    "        \\d+ |                                                # Whole numbers\n",
    "        \\w+ |                                                # Words\n",
    "        [^\\w\\s]                                              # Punctuation\n",
    "    '''\n",
    "    return re.findall(pattern, sentence, re.VERBOSE)\n"
   ]
  },
  {
   "cell_type": "code",
   "execution_count": 5,
   "id": "48e0ba20",
   "metadata": {},
   "outputs": [],
   "source": [
    "def save_list_to_file(data_list, filename):\n",
    "    with open(filename, 'w', encoding='utf-8') as f:\n",
    "        for item in data_list:\n",
    "            f.write(item + '\\n')\n"
   ]
  },
  {
   "cell_type": "code",
   "execution_count": 6,
   "id": "22fa9b24",
   "metadata": {},
   "outputs": [],
   "source": [
    "def compute_statistics(sentences, words):\n",
    "    total_sentences = len(sentences)\n",
    "    total_words = len(words)\n",
    "    total_characters = sum(len(word) for word in words)\n",
    "\n",
    "    avg_sentence_length = total_words / total_sentences if total_sentences else 0\n",
    "    avg_word_length = total_characters / total_words if total_words else 0\n",
    "    type_token_ratio = len(set(words)) / total_words if total_words else 0\n",
    "\n",
    "    return {\n",
    "        \"Total Sentences\": total_sentences,\n",
    "        \"Total Words\": total_words,\n",
    "        \"Total Characters\": total_characters,\n",
    "        \"Avg Sentence Length\": avg_sentence_length,\n",
    "        \"Avg Word Length\": avg_word_length,\n",
    "        \"Type/Token Ratio\": type_token_ratio\n",
    "    }\n"
   ]
  },
  {
   "cell_type": "code",
   "execution_count": null,
   "id": "b9c08c40",
   "metadata": {},
   "outputs": [
    {
     "ename": "FileNotFoundError",
     "evalue": "[Errno 2] No such file or directory: 'gom.txt'",
     "output_type": "error",
     "traceback": [
      "\u001b[31m---------------------------------------------------------------------------\u001b[39m",
      "\u001b[31mFileNotFoundError\u001b[39m                         Traceback (most recent call last)",
      "\u001b[36mCell\u001b[39m\u001b[36m \u001b[39m\u001b[32mIn[7]\u001b[39m\u001b[32m, line 2\u001b[39m\n\u001b[32m      1\u001b[39m file_name = \u001b[33m\"\u001b[39m\u001b[33mgom.txt\u001b[39m\u001b[33m\"\u001b[39m\n\u001b[32m----> \u001b[39m\u001b[32m2\u001b[39m text = \u001b[43mload_text\u001b[49m\u001b[43m(\u001b[49m\u001b[43mfile_name\u001b[49m\u001b[43m)\u001b[49m\n\u001b[32m      4\u001b[39m \u001b[38;5;66;03m# Step 1: Sentence Tokenization\u001b[39;00m\n\u001b[32m      5\u001b[39m sentences = sentence_tokenizer(text)\n",
      "\u001b[36mCell\u001b[39m\u001b[36m \u001b[39m\u001b[32mIn[2]\u001b[39m\u001b[32m, line 2\u001b[39m, in \u001b[36mload_text\u001b[39m\u001b[34m(file_path)\u001b[39m\n\u001b[32m      1\u001b[39m \u001b[38;5;28;01mdef\u001b[39;00m\u001b[38;5;250m \u001b[39m\u001b[34mload_text\u001b[39m(file_path):\n\u001b[32m----> \u001b[39m\u001b[32m2\u001b[39m     \u001b[38;5;28;01mwith\u001b[39;00m \u001b[38;5;28;43mopen\u001b[39;49m\u001b[43m(\u001b[49m\u001b[43mfile_path\u001b[49m\u001b[43m,\u001b[49m\u001b[43m \u001b[49m\u001b[33;43m'\u001b[39;49m\u001b[33;43mr\u001b[39;49m\u001b[33;43m'\u001b[39;49m\u001b[43m,\u001b[49m\u001b[43m \u001b[49m\u001b[43mencoding\u001b[49m\u001b[43m=\u001b[49m\u001b[33;43m'\u001b[39;49m\u001b[33;43mutf-8\u001b[39;49m\u001b[33;43m'\u001b[39;49m\u001b[43m)\u001b[49m \u001b[38;5;28;01mas\u001b[39;00m f:\n\u001b[32m      3\u001b[39m         \u001b[38;5;28;01mreturn\u001b[39;00m f.read()\n",
      "\u001b[36mFile \u001b[39m\u001b[32mc:\\Users\\aryan\\Documents\\GitHub\\nlp-ai3aa\\venv\\Lib\\site-packages\\IPython\\core\\interactiveshell.py:343\u001b[39m, in \u001b[36m_modified_open\u001b[39m\u001b[34m(file, *args, **kwargs)\u001b[39m\n\u001b[32m    336\u001b[39m \u001b[38;5;28;01mif\u001b[39;00m file \u001b[38;5;129;01min\u001b[39;00m {\u001b[32m0\u001b[39m, \u001b[32m1\u001b[39m, \u001b[32m2\u001b[39m}:\n\u001b[32m    337\u001b[39m     \u001b[38;5;28;01mraise\u001b[39;00m \u001b[38;5;167;01mValueError\u001b[39;00m(\n\u001b[32m    338\u001b[39m         \u001b[33mf\u001b[39m\u001b[33m\"\u001b[39m\u001b[33mIPython won\u001b[39m\u001b[33m'\u001b[39m\u001b[33mt let you open fd=\u001b[39m\u001b[38;5;132;01m{\u001b[39;00mfile\u001b[38;5;132;01m}\u001b[39;00m\u001b[33m by default \u001b[39m\u001b[33m\"\u001b[39m\n\u001b[32m    339\u001b[39m         \u001b[33m\"\u001b[39m\u001b[33mas it is likely to crash IPython. If you know what you are doing, \u001b[39m\u001b[33m\"\u001b[39m\n\u001b[32m    340\u001b[39m         \u001b[33m\"\u001b[39m\u001b[33myou can use builtins\u001b[39m\u001b[33m'\u001b[39m\u001b[33m open.\u001b[39m\u001b[33m\"\u001b[39m\n\u001b[32m    341\u001b[39m     )\n\u001b[32m--> \u001b[39m\u001b[32m343\u001b[39m \u001b[38;5;28;01mreturn\u001b[39;00m \u001b[43mio_open\u001b[49m\u001b[43m(\u001b[49m\u001b[43mfile\u001b[49m\u001b[43m,\u001b[49m\u001b[43m \u001b[49m\u001b[43m*\u001b[49m\u001b[43margs\u001b[49m\u001b[43m,\u001b[49m\u001b[43m \u001b[49m\u001b[43m*\u001b[49m\u001b[43m*\u001b[49m\u001b[43mkwargs\u001b[49m\u001b[43m)\u001b[49m\n",
      "\u001b[31mFileNotFoundError\u001b[39m: [Errno 2] No such file or directory: 'gom.txt'"
     ]
    }
   ],
   "source": [
    "file_name = \"gom.txt\"\n",
    "text = load_text(file_name)\n"
   ]
  },
  {
   "cell_type": "code",
   "execution_count": null,
   "id": "55276d4b",
   "metadata": {},
   "outputs": [],
   "source": [
    "sentences = sentence_tokenizer(text)"
   ]
  },
  {
   "cell_type": "code",
   "execution_count": null,
   "id": "665eebd9",
   "metadata": {},
   "outputs": [],
   "source": [
    "tokenized_sentences = []\n",
    "all_words = []\n",
    "\n",
    "for s in sentences:\n",
    "    words = word_tokenizer(s)\n",
    "    all_words.extend(words)\n",
    "    tokenized_sentence = ' '.join(words)\n",
    "    tokenized_sentences.append(tokenized_sentence)"
   ]
  },
  {
   "cell_type": "code",
   "execution_count": null,
   "id": "a4421c45",
   "metadata": {},
   "outputs": [],
   "source": [
    "save_list_to_file(tokenized_sentences, \"tokenized_sentences.txt\")"
   ]
  },
  {
   "cell_type": "code",
   "execution_count": null,
   "id": "c892495a",
   "metadata": {},
   "outputs": [],
   "source": [
    "save_list_to_file(all_words, \"tokenized_words.txt\")"
   ]
  },
  {
   "cell_type": "code",
   "execution_count": null,
   "id": "686983de",
   "metadata": {},
   "outputs": [],
   "source": [
    "stats = compute_statistics(sentences, all_words)\n",
    "\n",
    "print(\"Statistics:\")\n",
    "for k, v in stats.items():\n",
    "    print(f\"{k}: {v}\")"
   ]
  }
 ],
 "metadata": {
  "kernelspec": {
   "display_name": "venv",
   "language": "python",
   "name": "python3"
  },
  "language_info": {
   "codemirror_mode": {
    "name": "ipython",
    "version": 3
   },
   "file_extension": ".py",
   "mimetype": "text/x-python",
   "name": "python",
   "nbconvert_exporter": "python",
   "pygments_lexer": "ipython3",
   "version": "3.12.1"
  }
 },
 "nbformat": 4,
 "nbformat_minor": 5
}
