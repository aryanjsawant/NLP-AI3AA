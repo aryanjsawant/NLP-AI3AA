{
 "cells": [
  {
   "cell_type": "code",
   "execution_count": null,
   "id": "9ca76296",
   "metadata": {},
   "outputs": [],
   "source": [
    "def replace_characters(text):\n",
    "    \"\"\"\n",
    "    Replace tricky punctuations that can mess up sentence tokenizers\n",
    "    :param text: text with non-standard punctuations\n",
    "    :return: text with standardized punctuations\n",
    "    \"\"\"\n",
    "    replacement_rules = {'“': '\"', '”': '\"', '’': \"'\", '--': ','}\n",
    "    for symbol, replacement in replacement_rules.items():\n",
    "        text = text.replace(symbol, replacement)\n",
    "    return text"
   ]
  },
  {
   "cell_type": "code",
   "execution_count": null,
   "id": "60c58885",
   "metadata": {},
   "outputs": [
    {
     "ename": "NameError",
     "evalue": "name 'Iterator' is not defined",
     "output_type": "error",
     "traceback": [
      "\u001b[31m---------------------------------------------------------------------------\u001b[39m",
      "\u001b[31mNameError\u001b[39m                                 Traceback (most recent call last)",
      "\u001b[36mCell\u001b[39m\u001b[36m \u001b[39m\u001b[32mIn[1]\u001b[39m\u001b[32m, line 1\u001b[39m\n\u001b[32m----> \u001b[39m\u001b[32m1\u001b[39m \u001b[38;5;28;01mdef\u001b[39;00m\u001b[38;5;250m \u001b[39m\u001b[34mgenerate_tokenized_sentences\u001b[39m(paragraph: \u001b[38;5;28mstr\u001b[39m) -> \u001b[43mIterator\u001b[49m[\u001b[38;5;28mstr\u001b[39m]:\n\u001b[32m      2\u001b[39m \u001b[38;5;250m    \u001b[39m\u001b[33;03m\"\"\"\u001b[39;00m\n\u001b[32m      3\u001b[39m \u001b[33;03m    Tokenize each sentence in paragraph.\u001b[39;00m\n\u001b[32m      4\u001b[39m \u001b[33;03m    For each sentence, tokenize each words and return the tokenized sentence one at a time.\u001b[39;00m\n\u001b[32m      5\u001b[39m \u001b[33;03m    :param paragraph: text of paragraph\u001b[39;00m\n\u001b[32m      6\u001b[39m \u001b[33;03m    \"\"\"\u001b[39;00m\n\u001b[32m      7\u001b[39m     word_tokenizer = RegexpTokenizer(\u001b[33mr\u001b[39m\u001b[33m'\u001b[39m\u001b[33m[-\u001b[39m\u001b[38;5;130;01m\\'\u001b[39;00m\u001b[33m\\\u001b[39m\u001b[33mw]+\u001b[39m\u001b[33m'\u001b[39m)\n",
      "\u001b[31mNameError\u001b[39m: name 'Iterator' is not defined"
     ]
    }
   ],
   "source": [
    "def generate_tokenized_sentences(paragraph):\n",
    "    \"\"\"\n",
    "    Tokenize each sentence in paragraph.\n",
    "    For each sentence, tokenize each words and return the tokenized sentence one at a time.\n",
    "    :param paragraph: text of paragraph\n",
    "    \"\"\"\n",
    "    word_tokenizer = RegexpTokenizer(r'[-\\'\\w]+')\n",
    "\n",
    "    for sentence in sent_tokenize(paragraph):\n",
    "        tokenized_sentence = word_tokenizer.tokenize(sentence)\n",
    "        if tokenized_sentence:\n",
    "            tokenized_sentence.append('[END]')\n",
    "            yield tokenized_sentence"
   ]
  },
  {
   "cell_type": "code",
   "execution_count": null,
   "id": "34691380",
   "metadata": {},
   "outputs": [],
   "source": [
    "def tokenize_raw_text(raw_text_path, token_text_path):\n",
    "    \"\"\"\n",
    "    Read a input text file and write its content to an output text file in the form of tokenized sentences\n",
    "    :param raw_text_path: path of raw input text file\n",
    "    :param token_text_path: path of tokenized output text file\n",
    "    \"\"\"\n",
    "    with open(raw_text_path) as read_handle, open(token_text_path, 'w') as write_handle:\n",
    "        for paragraph in read_handle:\n",
    "            paragraph = paragraph.lower()\n",
    "            paragraph = replace_characters(paragraph)\n",
    "\n",
    "            for tokenized_sentence in generate_tokenized_sentences(paragraph):\n",
    "                write_handle.write(','.join(tokenized_sentence))\n",
    "                write_handle.write('\\n')"
   ]
  }
 ],
 "metadata": {
  "kernelspec": {
   "display_name": "venv",
   "language": "python",
   "name": "python3"
  },
  "language_info": {
   "codemirror_mode": {
    "name": "ipython",
    "version": 3
   },
   "file_extension": ".py",
   "mimetype": "text/x-python",
   "name": "python",
   "nbconvert_exporter": "python",
   "pygments_lexer": "ipython3",
   "version": "3.12.1"
  }
 },
 "nbformat": 4,
 "nbformat_minor": 5
}
