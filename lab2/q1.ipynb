{
 "cells": [
  {
   "cell_type": "code",
   "execution_count": 1,
   "id": "7bced037",
   "metadata": {},
   "outputs": [],
   "source": [
    "import re\n",
    "import string\n",
    "from automathon import DFA"
   ]
  },
  {
   "cell_type": "code",
   "execution_count": 2,
   "id": "53154195",
   "metadata": {},
   "outputs": [],
   "source": [
    "def check_pattern(word):\n",
    "    pattern = r'^[a-z]+$'\n",
    "\n",
    "    if re.fullmatch(pattern, word):\n",
    "        print(\"word accepted\")\n",
    "    else:\n",
    "        print(\"word not accepted\")"
   ]
  },
  {
   "cell_type": "code",
   "execution_count": 3,
   "id": "cb436aca",
   "metadata": {},
   "outputs": [
    {
     "name": "stdout",
     "output_type": "stream",
     "text": [
      "word accepted\n"
     ]
    }
   ],
   "source": [
    "x = str(input())\n",
    "\n",
    "check_pattern(x)"
   ]
  },
  {
   "cell_type": "code",
   "execution_count": null,
   "id": "829399cd",
   "metadata": {},
   "outputs": [],
   "source": [
    "q = {'q0', 'q1', 'q2'}\n",
    "\n",
    "sigma = set(string.ascii_lowercase)\n",
    "delta = {\n",
    "    'q0': {letter: 'q1' for letter in sigma},\n",
    "    'q1': {letter: 'q2' for letter in sigma},\n",
    "    'q2': {letter: 'q2' for letter in sigma} \n",
    "}\n",
    "initial_state = 'q0'\n",
    "f = {'q1'}\n",
    "automata = DFA(q, sigma, delta, initial_state, f) #table"
   ]
  },
  {
   "cell_type": "code",
   "execution_count": 9,
   "id": "8b2e0935",
   "metadata": {},
   "outputs": [
    {
     "data": {
      "text/plain": [
       "True"
      ]
     },
     "execution_count": 9,
     "metadata": {},
     "output_type": "execute_result"
    }
   ],
   "source": [
    "automata.is_valid()"
   ]
  },
  {
   "cell_type": "code",
   "execution_count": 10,
   "id": "67c2904f",
   "metadata": {},
   "outputs": [],
   "source": [
    "automata.view(\"dfa_visualization\")"
   ]
  },
  {
   "cell_type": "code",
   "execution_count": 11,
   "id": "e99a43cb",
   "metadata": {},
   "outputs": [
    {
     "name": "stdout",
     "output_type": "stream",
     "text": [
      "Accepted words: 0\n",
      "Not accepted words: 202793\n"
     ]
    }
   ],
   "source": [
    "accepted = 0\n",
    "not_accepted = 0\n",
    "\n",
    "with open('brown_nouns.txt', 'r') as file:\n",
    "    for line in file:\n",
    "        word = line.strip()\n",
    "        if automata.accept(word):\n",
    "            accepted += 1\n",
    "        else:\n",
    "            not_accepted += 1\n",
    "\n",
    "print(f\"Accepted words: {accepted}\")\n",
    "print(f\"Not accepted words: {not_accepted}\")"
   ]
  },
  {
   "cell_type": "code",
   "execution_count": null,
   "id": "40aa2c9d",
   "metadata": {},
   "outputs": [],
   "source": []
  }
 ],
 "metadata": {
  "kernelspec": {
   "display_name": "venv",
   "language": "python",
   "name": "python3"
  },
  "language_info": {
   "codemirror_mode": {
    "name": "ipython",
    "version": 3
   },
   "file_extension": ".py",
   "mimetype": "text/x-python",
   "name": "python",
   "nbconvert_exporter": "python",
   "pygments_lexer": "ipython3",
   "version": "3.12.1"
  }
 },
 "nbformat": 4,
 "nbformat_minor": 5
}
